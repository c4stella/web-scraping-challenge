{
 "cells": [
  {
   "cell_type": "code",
   "execution_count": 1,
   "metadata": {},
   "outputs": [],
   "source": [
    "# Dependencies\n",
    "import pandas as pd\n",
    "import pymongo\n",
    "\n",
    "from bs4 import BeautifulSoup as bs\n",
    "from splinter import Browser\n",
    "from webdriver_manager.chrome import ChromeDriverManager"
   ]
  },
  {
   "cell_type": "code",
   "execution_count": 2,
   "metadata": {},
   "outputs": [
    {
     "name": "stdout",
     "output_type": "stream",
     "text": [
      "\n"
     ]
    },
    {
     "name": "stderr",
     "output_type": "stream",
     "text": [
      "[WDM] - ====== WebDriver manager ======\n",
      "INFO:WDM:====== WebDriver manager ======\n",
      "[WDM] - Current google-chrome version is 102.0.5005\n",
      "INFO:WDM:Current google-chrome version is 102.0.5005\n",
      "[WDM] - Get LATEST chromedriver version for 102.0.5005 google-chrome\n",
      "INFO:WDM:Get LATEST chromedriver version for 102.0.5005 google-chrome\n",
      "[WDM] - About to download new driver from https://chromedriver.storage.googleapis.com/102.0.5005.61/chromedriver_win32.zip\n",
      "INFO:WDM:About to download new driver from https://chromedriver.storage.googleapis.com/102.0.5005.61/chromedriver_win32.zip\n",
      "[WDM] - Driver has been saved in cache [C:\\Users\\Ray\\.wdm\\drivers\\chromedriver\\win32\\102.0.5005.61]\n",
      "INFO:WDM:Driver has been saved in cache [C:\\Users\\Ray\\.wdm\\drivers\\chromedriver\\win32\\102.0.5005.61]\n"
     ]
    }
   ],
   "source": [
    "# Setting up splinter\n",
    "executable_path = {'executable_path': ChromeDriverManager().install()}\n",
    "browser = Browser('chrome', **executable_path, headless=False)"
   ]
  },
  {
   "cell_type": "code",
   "execution_count": 3,
   "metadata": {},
   "outputs": [],
   "source": [
    "# URLs to scrape\n",
    "url_news = 'https://redplanetscience.com/'\n",
    "url_imgs = 'https://spaceimages-mars.com'\n",
    "url_info = 'https://galaxyfacts-mars.com'\n",
    "url_hemi = 'https://marshemispheres.com/'"
   ]
  },
  {
   "cell_type": "code",
   "execution_count": 4,
   "metadata": {},
   "outputs": [],
   "source": [
    "# Working with redplanetscience\n",
    "browser.visit(url_news)"
   ]
  },
  {
   "cell_type": "code",
   "execution_count": 6,
   "metadata": {},
   "outputs": [],
   "source": [
    "# HTML object\n",
    "html_news = browser.html\n",
    "\n",
    "# Using Beautiful Soup\n",
    "soup_news = bs(html_news,'html.parser')\n",
    "\n",
    "# Identifying elements with needed information\n",
    "article = soup_news.find('div', class_='list_text')"
   ]
  },
  {
   "cell_type": "code",
   "execution_count": 7,
   "metadata": {},
   "outputs": [
    {
     "name": "stdout",
     "output_type": "stream",
     "text": [
      "NASA's Mars Perseverance Rover Passes Flight Readiness Review\n",
      "​The agency's Mars 2020 mission has one more big prelaunch review – the Launch Readiness Review, on July 27.\n"
     ]
    }
   ],
   "source": [
    "# Saving information to variables\n",
    "news_title = article.find('div', class_='content_title').text\n",
    "print(news_title)\n",
    "\n",
    "news_text = article.find('div', class_='article_teaser_body').text\n",
    "print(news_text)"
   ]
  },
  {
   "cell_type": "code",
   "execution_count": 8,
   "metadata": {},
   "outputs": [],
   "source": [
    "# Working with spaceimages\n",
    "browser.visit(url_imgs)"
   ]
  },
  {
   "cell_type": "code",
   "execution_count": 9,
   "metadata": {},
   "outputs": [],
   "source": [
    "# HTML Object\n",
    "html_imgs = browser.html\n",
    "\n",
    "# Using Beautiful Soup\n",
    "soup_imgs = bs(html_imgs, 'html.parser')\n",
    "\n",
    "# Identifying elements with needed information\n",
    "image = soup_imgs.find('img', class_='headerimage fade-in')"
   ]
  },
  {
   "cell_type": "code",
   "execution_count": 10,
   "metadata": {},
   "outputs": [],
   "source": [
    "# Creating url for featured image, saving to variable\n",
    "featured_image_url = url_imgs + '/' + image['src']\n",
    "#print(featured_image_url)"
   ]
  },
  {
   "cell_type": "code",
   "execution_count": 11,
   "metadata": {},
   "outputs": [],
   "source": [
    "# Working with galaxyfacts\n",
    "#browser.visit(url_info)\n",
    "\n",
    "# Scraping tablular data with pandas\n",
    "html_info = pd.read_html(url_info)"
   ]
  },
  {
   "cell_type": "code",
   "execution_count": 12,
   "metadata": {},
   "outputs": [],
   "source": [
    "# Empty list for iteration\n",
    "html_str_info = []\n",
    "\n",
    "# Iterate through list of table data\n",
    "for tab in html_info:\n",
    "    \n",
    "    # Render tables as html strings, append to empty list\n",
    "    html_str = tab.to_html()\n",
    "    #print(html_str)\n",
    "    html_str_info.append(html_str)\n",
    "\n",
    "#html_str_info"
   ]
  },
  {
   "cell_type": "code",
   "execution_count": 13,
   "metadata": {},
   "outputs": [],
   "source": [
    "# Working with marshemispheres\n",
    "browser.visit(url_hemi)"
   ]
  },
  {
   "cell_type": "code",
   "execution_count": 38,
   "metadata": {},
   "outputs": [],
   "source": [
    "# HTML Object\n",
    "html_hemi = browser.html\n",
    "\n",
    "# Using Beautiful Soup\n",
    "soup_hemi = bs(html_hemi, 'html.parser')\n",
    "\n",
    "# Identifying elements with needed information\n",
    "hemispheres = soup_hemi.find_all('img', class_='thumb')\n",
    "#print(hemispheres)"
   ]
  },
  {
   "cell_type": "code",
   "execution_count": 44,
   "metadata": {},
   "outputs": [
    {
     "data": {
      "text/plain": [
       "[{'title': 'Cerberus Hemisphere',\n",
       "  'img_url': 'https://marshemispheres.com/images/39d3266553462198bd2fbc4d18fbed17_cerberus_enhanced.tif'},\n",
       " {'title': 'Schiaparelli Hemisphere',\n",
       "  'img_url': 'https://marshemispheres.com/images/08eac6e22c07fb1fe72223a79252de20_schiaparelli_enhanced.tif'},\n",
       " {'title': 'Syrtis Major Hemisphere',\n",
       "  'img_url': 'https://marshemispheres.com/images/55a0a1e2796313fdeafb17c35925e8ac_syrtis_major_enhanced.tif'},\n",
       " {'title': 'Valles Marineris Hemisphere',\n",
       "  'img_url': 'https://marshemispheres.com/images/4e59980c1c57f89c680c0e1ccabbeff1_valles_marineris_enhanced.tif'}]"
      ]
     },
     "execution_count": 44,
     "metadata": {},
     "output_type": "execute_result"
    }
   ],
   "source": [
    "# Empty list for iteration\n",
    "hemisphere_image_urls = []\n",
    "\n",
    "# Iterate through list of results to find image data\n",
    "for h in hemispheres:\n",
    "\n",
    "    # Save name of image\n",
    "    img_alt = h['alt']\n",
    "    hem_name = img_alt.replace(' Enhanced thumbnail','')\n",
    "\n",
    "    # Save and edit image url\n",
    "    img_src = h['src']\n",
    "    hem_img = url_hemi + img_src.replace('_thumb.png','')\n",
    "    #print(img_url)\n",
    "\n",
    "    # Save name and image url as a key:value pair\n",
    "    hem_dict = {'title': hem_name, 'img_url': hem_img}\n",
    "\n",
    "    # Append dictionaries to empty list\n",
    "    hemisphere_image_urls.append(hem_dict)\n",
    "\n",
    "hemisphere_image_urls"
   ]
  },
  {
   "cell_type": "code",
   "execution_count": 45,
   "metadata": {},
   "outputs": [],
   "source": [
    "# Exiting browser\n",
    "browser.quit()"
   ]
  },
  {
   "cell_type": "code",
   "execution_count": null,
   "metadata": {},
   "outputs": [],
   "source": []
  }
 ],
 "metadata": {
  "kernelspec": {
   "display_name": "Python 3.9.7 ('base')",
   "language": "python",
   "name": "python3"
  },
  "language_info": {
   "codemirror_mode": {
    "name": "ipython",
    "version": 3
   },
   "file_extension": ".py",
   "mimetype": "text/x-python",
   "name": "python",
   "nbconvert_exporter": "python",
   "pygments_lexer": "ipython3",
   "version": "3.9.7"
  },
  "orig_nbformat": 4,
  "vscode": {
   "interpreter": {
    "hash": "5c1111a106d7ffaaa9f2643bb82b0d2e2dbd6e95a4929d570c8200f098d6bda7"
   }
  }
 },
 "nbformat": 4,
 "nbformat_minor": 2
}
